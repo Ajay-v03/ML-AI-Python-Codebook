{
  "nbformat": 4,
  "nbformat_minor": 0,
  "metadata": {
    "kernelspec": {
      "display_name": "Python 3",
      "language": "python",
      "name": "python3"
    },
    "language_info": {
      "codemirror_mode": {
        "name": "ipython",
        "version": 3
      },
      "file_extension": ".py",
      "mimetype": "text/x-python",
      "name": "python",
      "nbconvert_exporter": "python",
      "pygments_lexer": "ipython3",
      "version": "3.7.3"
    },
    "colab": {
      "name": "Sentence generator GPT-J-6B.ipynb",
      "provenance": [],
      "collapsed_sections": []
    },
    "accelerator": "GPU"
  },
  "cells": [
    {
      "cell_type": "markdown",
      "metadata": {
        "id": "npQy3li2g923"
      },
      "source": [
        "### Installs and Imports"
      ]
    },
    {
      "cell_type": "code",
      "metadata": {
        "id": "NfR2g52--Gus",
        "colab": {
          "base_uri": "https://localhost:8080/"
        },
        "outputId": "de1714cd-444f-4a3e-e3e9-28baafdcf376"
      },
      "source": [
        "!pip install --quiet gradio"
      ],
      "execution_count": null,
      "outputs": [
        {
          "output_type": "stream",
          "name": "stdout",
          "text": [
            "\u001b[K     |████████████████████████████████| 6.1 MB 5.0 MB/s \n",
            "\u001b[K     |████████████████████████████████| 2.3 MB 33.9 MB/s \n",
            "\u001b[K     |████████████████████████████████| 275 kB 76.0 MB/s \n",
            "\u001b[K     |████████████████████████████████| 212 kB 71.6 MB/s \n",
            "\u001b[K     |████████████████████████████████| 112 kB 54.5 MB/s \n",
            "\u001b[K     |████████████████████████████████| 84 kB 4.4 MB/s \n",
            "\u001b[K     |████████████████████████████████| 57 kB 5.9 MB/s \n",
            "\u001b[K     |████████████████████████████████| 54 kB 3.9 MB/s \n",
            "\u001b[K     |████████████████████████████████| 141 kB 45.1 MB/s \n",
            "\u001b[K     |████████████████████████████████| 84 kB 3.2 MB/s \n",
            "\u001b[K     |████████████████████████████████| 54 kB 1.4 MB/s \n",
            "\u001b[K     |████████████████████████████████| 63 kB 2.3 MB/s \n",
            "\u001b[K     |████████████████████████████████| 80 kB 11.4 MB/s \n",
            "\u001b[K     |████████████████████████████████| 68 kB 7.7 MB/s \n",
            "\u001b[K     |████████████████████████████████| 43 kB 2.8 MB/s \n",
            "\u001b[K     |████████████████████████████████| 62 kB 1.1 MB/s \n",
            "\u001b[K     |████████████████████████████████| 4.1 MB 45.7 MB/s \n",
            "\u001b[K     |████████████████████████████████| 856 kB 73.4 MB/s \n",
            "\u001b[?25h  Building wheel for ffmpy (setup.py) ... \u001b[?25l\u001b[?25hdone\n",
            "  Building wheel for python-multipart (setup.py) ... \u001b[?25l\u001b[?25hdone\n"
          ]
        }
      ]
    },
    {
      "cell_type": "code",
      "metadata": {
        "id": "fpnqjQor-Guv",
        "outputId": "97c076cc-87f2-406c-c384-f7a8eaad0e14",
        "colab": {
          "base_uri": "https://localhost:8080/",
          "height": 778
        }
      },
      "source": [
        "import gradio as gr\n",
        "\n",
        "title = \"GPT-J-6B\"\n",
        "\n",
        "examples = [\n",
        "    ['The tower is 324 metres (1,063 ft) tall,'],\n",
        "    [\"The Moon's orbit around Earth has\"],\n",
        "    [\"The smooth Borealis basin in the Northern Hemisphere covers 40%\"]\n",
        "]\n",
        "\n",
        "gr.Interface.load(\"huggingface/EleutherAI/gpt-j-6B\", \n",
        "    inputs=gr.inputs.Textbox(lines=5, label=\"Input Text\"),\n",
        "    title=title, examples=examples).launch();"
      ],
      "execution_count": null,
      "outputs": [
        {
          "output_type": "stream",
          "name": "stderr",
          "text": [
            "/usr/local/lib/python3.7/dist-packages/gradio/inputs.py:27: UserWarning: Usage of gradio.inputs is deprecated, and will not be supported in the future, please import your component from gradio.components\n",
            "  \"Usage of gradio.inputs is deprecated, and will not be supported in the future, please import your component from gradio.components\",\n",
            "/usr/local/lib/python3.7/dist-packages/gradio/deprecation.py:40: UserWarning: `optional` parameter is deprecated, and it has no effect\n",
            "  warnings.warn(value)\n",
            "/usr/local/lib/python3.7/dist-packages/gradio/deprecation.py:40: UserWarning: `numeric` parameter is deprecated, and it has no effect\n",
            "  warnings.warn(value)\n",
            "/usr/local/lib/python3.7/dist-packages/gradio/deprecation.py:40: UserWarning: The 'type' parameter has been deprecated. Use the Number component instead.\n",
            "  warnings.warn(value)\n"
          ]
        },
        {
          "output_type": "stream",
          "name": "stdout",
          "text": [
            "Fetching model from: https://huggingface.co/EleutherAI/gpt-j-6B\n",
            "Colab notebook detected. To show errors in colab notebook, set `debug=True` in `launch()`\n",
            "Running on public URL: https://35949.gradio.app\n",
            "\n",
            "This share link expires in 72 hours. For free permanent hosting, check out Spaces: https://huggingface.co/spaces\n"
          ]
        },
        {
          "output_type": "display_data",
          "data": {
            "text/plain": [
              "<IPython.core.display.HTML object>"
            ],
            "text/html": [
              "<div><iframe src=\"https://35949.gradio.app\" width=\"900\" height=\"500\" allow=\"autoplay; camera; microphone;\" frameborder=\"0\" allowfullscreen></iframe></div>"
            ]
          },
          "metadata": {}
        }
      ]
    },
    {
      "cell_type": "markdown",
      "metadata": {
        "id": "VsYULBhZhc0M"
      },
      "source": [
        "#### The model is now live on the gradio.app link shown above. Go ahead and open that in a new tab!"
      ]
    },
    {
      "cell_type": "markdown",
      "metadata": {
        "id": "xn27MzU0hdS2"
      },
      "source": [
        "Please contact us [here](mailto:team@gradio.app) if you have any questions, or [open an issue](https://github.com/gradio-app/gradio-UI/issues/new/choose) at our github repo.\n",
        "\n"
      ]
    }
  ]
}