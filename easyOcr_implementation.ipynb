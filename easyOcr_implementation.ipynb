{
 "cells": [
  {
   "cell_type": "code",
   "execution_count": null,
   "id": "3cd604c8",
   "metadata": {},
   "outputs": [],
   "source": [
    "!pip install easyocr"
   ]
  },
  {
   "cell_type": "code",
   "execution_count": null,
   "id": "e0417b58",
   "metadata": {},
   "outputs": [],
   "source": [
    "import matplotlib.pyplot as plt\n",
    "import cv2\n",
    "import easyocr\n",
    "from pylab import rcParams\n",
    "from IPython.display import Image\n",
    "rcParams['figure.figsize'] = 8, 16"
   ]
  },
  {
   "cell_type": "code",
   "execution_count": null,
   "id": "0aabc891",
   "metadata": {},
   "outputs": [],
   "source": [
    "reader = easyocr.Reader(['en'])"
   ]
  },
  {
   "cell_type": "code",
   "execution_count": null,
   "id": "44fefc80",
   "metadata": {},
   "outputs": [],
   "source": [
    "Image(\"easy_ocr_sample/Image2.jpg\")"
   ]
  },
  {
   "cell_type": "code",
   "execution_count": null,
   "id": "2b623ef4",
   "metadata": {},
   "outputs": [],
   "source": [
    "output = reader.readtext('easy_ocr_sample/Image2.jpg')"
   ]
  },
  {
   "cell_type": "code",
   "execution_count": null,
   "id": "e4e93e94",
   "metadata": {},
   "outputs": [],
   "source": [
    "output"
   ]
  },
  {
   "cell_type": "code",
   "execution_count": null,
   "id": "1477f5da",
   "metadata": {},
   "outputs": [],
   "source": [
    "cord = output[-1][0]"
   ]
  },
  {
   "cell_type": "code",
   "execution_count": null,
   "id": "ad0cb397",
   "metadata": {},
   "outputs": [],
   "source": [
    "x_min, y_min = [int(min(idx)) for idx in zip(*cord)]"
   ]
  },
  {
   "cell_type": "code",
   "execution_count": null,
   "id": "e380e741",
   "metadata": {},
   "outputs": [],
   "source": [
    "x_max, y_max = [int(max(idx)) for idx in zip(*cord)]"
   ]
  },
  {
   "cell_type": "code",
   "execution_count": null,
   "id": "790e5041",
   "metadata": {},
   "outputs": [],
   "source": [
    "image = cv2.imread('easy_ocr_sample/Image2.jpg')\n",
    "cv2.rectangle(image,(x_min,y_min),(x_max,y_max),(0,0,255),2)\n",
    "plt.imshow(cv2.cvtColor(image, cv2.COLOR_BGR2RGB))"
   ]
  }
 ],
 "metadata": {
  "kernelspec": {
   "display_name": "Python 3 (ipykernel)",
   "language": "python",
   "name": "python3"
  },
  "language_info": {
   "codemirror_mode": {
    "name": "ipython",
    "version": 3
   },
   "file_extension": ".py",
   "mimetype": "text/x-python",
   "name": "python",
   "nbconvert_exporter": "python",
   "pygments_lexer": "ipython3",
   "version": "3.8.10"
  }
 },
 "nbformat": 4,
 "nbformat_minor": 5
}
