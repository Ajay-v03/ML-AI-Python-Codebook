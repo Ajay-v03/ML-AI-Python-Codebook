{
  "nbformat": 4,
  "nbformat_minor": 0,
  "metadata": {
    "colab": {
      "name": "Slick Deals Data Extractor.ipynb",
      "provenance": [],
      "collapsed_sections": [],
      "toc_visible": true,
      "include_colab_link": true
    },
    "kernelspec": {
      "name": "python3",
      "display_name": "Python 3"
    }
  },
  "cells": [
    {
      "cell_type": "markdown",
      "metadata": {
        "id": "view-in-github",
        "colab_type": "text"
      },
      "source": [
        "<a href=\"https://colab.research.google.com/github/Ajay-v03/ML-AI-Python-Codebook/blob/main/slick_deal_data_extractor.ipynb\" target=\"_parent\"><img src=\"https://colab.research.google.com/assets/colab-badge.svg\" alt=\"Open In Colab\"/></a>"
      ]
    },
    {
      "cell_type": "markdown",
      "metadata": {
        "id": "YGsj_o6ZAq_f"
      },
      "source": [
        "## How to create Slick.html\n",
        "\n",
        "1. Open 'https://slickdeals.net/workflow/workflow_coupon.php' \n",
        "\n",
        "2. Login for your account\n",
        "\n",
        "3. Right click anywhere on the page and select 'inspect element'.\n",
        "\n",
        "4. Right click on the html tag at the top of the prompt\n",
        "\n",
        "5. Select 'Copy' and select 'Copy Element' from the drop down\n",
        "\n",
        "6. Create a Slick.html file in any document editor and paste the element in this file.\n",
        "\n",
        "7. Find 'UPLOAD' option at the top left corner and upload Slick.html"
      ]
    },
    {
      "cell_type": "code",
      "metadata": {
        "id": "HufsH0g0xwKC",
        "colab": {
          "base_uri": "https://localhost:8080/",
          "height": 187
        },
        "outputId": "cc265359-311a-4478-f6fa-3074688d1a5b"
      },
      "source": [
        "!pip install unidecode\n",
        "!pip install xlsxwriter"
      ],
      "execution_count": null,
      "outputs": [
        {
          "output_type": "stream",
          "text": [
            "Collecting unidecode\n",
            "\u001b[?25l  Downloading https://files.pythonhosted.org/packages/d0/42/d9edfed04228bacea2d824904cae367ee9efd05e6cce7ceaaedd0b0ad964/Unidecode-1.1.1-py2.py3-none-any.whl (238kB)\n",
            "\u001b[K     |████████████████████████████████| 245kB 2.4MB/s \n",
            "\u001b[?25hInstalling collected packages: unidecode\n",
            "Successfully installed unidecode-1.1.1\n",
            "Collecting xlsxwriter\n",
            "\u001b[?25l  Downloading https://files.pythonhosted.org/packages/b4/b9/0f095f47d1d8fdf830cab77907467beb784bc13c583e27844a22aa923934/XlsxWriter-1.3.2-py2.py3-none-any.whl (142kB)\n",
            "\u001b[K     |████████████████████████████████| 143kB 2.5MB/s \n",
            "\u001b[?25hInstalling collected packages: xlsxwriter\n",
            "Successfully installed xlsxwriter-1.3.2\n"
          ],
          "name": "stdout"
        }
      ]
    },
    {
      "cell_type": "code",
      "metadata": {
        "id": "zD0dj3NH-6Uk",
        "colab": {
          "base_uri": "https://localhost:8080/",
          "height": 367
        },
        "outputId": "24c83bb8-5c7e-4f01-a220-fb526a0727b8"
      },
      "source": [
        "\n",
        "import re,datetime,sys,os\n",
        "from unidecode import unidecode\n",
        "import yaml\n",
        "import csv\n",
        "import time\n",
        "import urllib\n",
        "import shutil\n",
        "import datetime\n",
        "import ast\n",
        "from bs4 import BeautifulSoup\n",
        "import xlsxwriter\n",
        "\n",
        "\n",
        "html_file = open(\"Slick.html\", \"r\", encoding=\"utf-8\")\n",
        "html_doc = html_file.read()\n",
        "\n",
        "username=input(\"Enter your name: \")\n",
        "\n",
        "soup = BeautifulSoup(html_doc, 'html.parser')\n",
        "content = soup.find(\"div\",{\"id\":\"couponMainDiv\"}).findAll(\"tr\")\n",
        "\n",
        "workbook = xlsxwriter.Workbook('Merchant_list.xlsx')\n",
        "worksheet = workbook.add_worksheet()\n",
        "row = 0\n",
        "col = 0\n",
        "for item in content:\n",
        "    worksheet.write(row, col,     item.find(\"td\").text.strip())\n",
        "    worksheet.write(row, col + 1, item.findAll(\"td\")[1].text.strip())\n",
        "    worksheet.write(row, col + 2, item.findAll(\"td\")[2].text.strip())\n",
        "    worksheet.write(row, col + 3, item.findAll(\"td\")[3].text.strip())\n",
        "    worksheet.write(row, col + 4, item.findAll(\"td\")[5].text.strip())\n",
        "    worksheet.write(row, col + 5, item.findAll(\"td\")[6].text.strip())\n",
        "\n",
        "    row += 1\n",
        "\n",
        "workbook.close()\n",
        "\n",
        "print(\"Hey! \"+username+\" Your file is ready.\")\n",
        "\n"
      ],
      "execution_count": null,
      "outputs": [
        {
          "output_type": "error",
          "ename": "ModuleNotFoundError",
          "evalue": "ignored",
          "traceback": [
            "\u001b[0;31m---------------------------------------------------------------------------\u001b[0m",
            "\u001b[0;31mModuleNotFoundError\u001b[0m                       Traceback (most recent call last)",
            "\u001b[0;32m<ipython-input-1-a6256700e809>\u001b[0m in \u001b[0;36m<module>\u001b[0;34m()\u001b[0m\n\u001b[1;32m      1\u001b[0m \u001b[0;34m\u001b[0m\u001b[0m\n\u001b[1;32m      2\u001b[0m \u001b[0;32mimport\u001b[0m \u001b[0mre\u001b[0m\u001b[0;34m,\u001b[0m\u001b[0mdatetime\u001b[0m\u001b[0;34m,\u001b[0m\u001b[0msys\u001b[0m\u001b[0;34m,\u001b[0m\u001b[0mos\u001b[0m\u001b[0;34m\u001b[0m\u001b[0;34m\u001b[0m\u001b[0m\n\u001b[0;32m----> 3\u001b[0;31m \u001b[0;32mfrom\u001b[0m \u001b[0munidecode\u001b[0m \u001b[0;32mimport\u001b[0m \u001b[0munidecode\u001b[0m\u001b[0;34m\u001b[0m\u001b[0;34m\u001b[0m\u001b[0m\n\u001b[0m\u001b[1;32m      4\u001b[0m \u001b[0;32mimport\u001b[0m \u001b[0myaml\u001b[0m\u001b[0;34m\u001b[0m\u001b[0;34m\u001b[0m\u001b[0m\n\u001b[1;32m      5\u001b[0m \u001b[0;32mimport\u001b[0m \u001b[0mcsv\u001b[0m\u001b[0;34m\u001b[0m\u001b[0;34m\u001b[0m\u001b[0m\n",
            "\u001b[0;31mModuleNotFoundError\u001b[0m: No module named 'unidecode'",
            "",
            "\u001b[0;31m---------------------------------------------------------------------------\u001b[0;32m\nNOTE: If your import is failing due to a missing package, you can\nmanually install dependencies using either !pip or !apt.\n\nTo view examples of installing some common dependencies, click the\n\"Open Examples\" button below.\n\u001b[0;31m---------------------------------------------------------------------------\u001b[0m\n"
          ],
          "errorDetails": {
            "actions": [
              {
                "action": "open_url",
                "actionText": "Open Examples",
                "url": "/notebooks/snippets/importing_libraries.ipynb"
              }
            ]
          }
        }
      ]
    }
  ]
}